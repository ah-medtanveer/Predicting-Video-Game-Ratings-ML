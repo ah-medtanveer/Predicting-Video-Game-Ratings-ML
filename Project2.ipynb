{
 "cells": [
  {
   "cell_type": "markdown",
   "id": "b3f8bbf2",
   "metadata": {},
   "source": [
    "# Project 2: Predict Video Game Ratings - Ahmed Tanveer\n",
    "    \n",
    "   "
   ]
  },
  {
   "cell_type": "markdown",
   "id": "ee755e3d",
   "metadata": {},
   "source": [
    "In this project we will be continuing on Project 1 where we performed analysis to help us predict Video Game Ratings Using Machine Learning and Data Visualization tools using training data.\n",
    "\n",
    "The goal of this project is to produce results more accurate than the previous project. This could be either cleaning up the data from the last project or finding another method of Machine Learning that will product these results.\n",
    "\n",
    "<i> I may restate things that have been previously decribed in the previous project to make sure that this version can act as it's own standalone project as well."
   ]
  },
  {
   "cell_type": "code",
   "execution_count": 1,
   "id": "53dbef67",
   "metadata": {},
   "outputs": [],
   "source": [
    "import pandas as pd\n",
    "from sklearn.ensemble import RandomForestClassifier\n",
    "from sklearn.metrics import classification_report, confusion_matrix, accuracy_score\n",
    "from sklearn.metrics import roc_curve, roc_auc_score\n",
    "from sklearn.model_selection import train_test_split\n",
    "\n",
    "import matplotlib.pyplot as plt\n",
    "import numpy as np\n",
    "import seaborn as sns"
   ]
  },
  {
   "cell_type": "markdown",
   "id": "dd860e13",
   "metadata": {},
   "source": [
    "First we imported all the necessary tools. Here we are going to begin with using the Random Forest training model to get our results as we learned that was effective in the previous project. I chose Random Forest Training due to its simplicity in implementation and speed at generating results."
   ]
  },
  {
   "cell_type": "code",
   "execution_count": 2,
   "id": "696cbdaf",
   "metadata": {},
   "outputs": [],
   "source": [
    "data = pd.read_csv('Video_games_esrb_rating.csv')\n",
    "test_data = pd.read_csv('test_esrb.csv')"
   ]
  },
  {
   "cell_type": "markdown",
   "id": "d85b2e97",
   "metadata": {},
   "source": [
    "Next I imported the training data and the testing data respectively that I had found on Kaggle. These datasheets have multiple columns (e.g. hasDrugUse, hasAlchohol, hasSuggestiveThemes, hasBlood) with binary values as True or False with a final rating of the ESRB Rating given to the game"
   ]
  },
  {
   "cell_type": "markdown",
   "id": "15ff7d78",
   "metadata": {},
   "source": [
    "Link to the Kaggle data source: https://www.kaggle.com/code/sachacuster/starter-video-games-rating-by-esrb"
   ]
  },
  {
   "cell_type": "code",
   "execution_count": 3,
   "id": "948b0de2",
   "metadata": {},
   "outputs": [],
   "source": [
    "#print(data)\n",
    "\n",
    "X = data.drop('esrb_rating', axis=1)\n",
    "#Drop title\n",
    "X = X.drop('title', axis=1)\n",
    "y = data['esrb_rating']"
   ]
  },
  {
   "cell_type": "markdown",
   "id": "f146dd60",
   "metadata": {},
   "source": [
    "Here we begin to clean up the data, as attempting to run the training model without this step will result to errors and/or undesirable results due to the bad data. The data we will be cleaning up is splitting the rating and the game tags to be properly inputted into the Random Forest Model as well as removing the title, as all the values in the Random Forest Model in Python appears to require float values."
   ]
  },
  {
   "cell_type": "code",
   "execution_count": 4,
   "id": "559c1bd6",
   "metadata": {},
   "outputs": [
    {
     "data": {
      "text/html": [
       "<style>#sk-container-id-1 {color: black;}#sk-container-id-1 pre{padding: 0;}#sk-container-id-1 div.sk-toggleable {background-color: white;}#sk-container-id-1 label.sk-toggleable__label {cursor: pointer;display: block;width: 100%;margin-bottom: 0;padding: 0.3em;box-sizing: border-box;text-align: center;}#sk-container-id-1 label.sk-toggleable__label-arrow:before {content: \"▸\";float: left;margin-right: 0.25em;color: #696969;}#sk-container-id-1 label.sk-toggleable__label-arrow:hover:before {color: black;}#sk-container-id-1 div.sk-estimator:hover label.sk-toggleable__label-arrow:before {color: black;}#sk-container-id-1 div.sk-toggleable__content {max-height: 0;max-width: 0;overflow: hidden;text-align: left;background-color: #f0f8ff;}#sk-container-id-1 div.sk-toggleable__content pre {margin: 0.2em;color: black;border-radius: 0.25em;background-color: #f0f8ff;}#sk-container-id-1 input.sk-toggleable__control:checked~div.sk-toggleable__content {max-height: 200px;max-width: 100%;overflow: auto;}#sk-container-id-1 input.sk-toggleable__control:checked~label.sk-toggleable__label-arrow:before {content: \"▾\";}#sk-container-id-1 div.sk-estimator input.sk-toggleable__control:checked~label.sk-toggleable__label {background-color: #d4ebff;}#sk-container-id-1 div.sk-label input.sk-toggleable__control:checked~label.sk-toggleable__label {background-color: #d4ebff;}#sk-container-id-1 input.sk-hidden--visually {border: 0;clip: rect(1px 1px 1px 1px);clip: rect(1px, 1px, 1px, 1px);height: 1px;margin: -1px;overflow: hidden;padding: 0;position: absolute;width: 1px;}#sk-container-id-1 div.sk-estimator {font-family: monospace;background-color: #f0f8ff;border: 1px dotted black;border-radius: 0.25em;box-sizing: border-box;margin-bottom: 0.5em;}#sk-container-id-1 div.sk-estimator:hover {background-color: #d4ebff;}#sk-container-id-1 div.sk-parallel-item::after {content: \"\";width: 100%;border-bottom: 1px solid gray;flex-grow: 1;}#sk-container-id-1 div.sk-label:hover label.sk-toggleable__label {background-color: #d4ebff;}#sk-container-id-1 div.sk-serial::before {content: \"\";position: absolute;border-left: 1px solid gray;box-sizing: border-box;top: 0;bottom: 0;left: 50%;z-index: 0;}#sk-container-id-1 div.sk-serial {display: flex;flex-direction: column;align-items: center;background-color: white;padding-right: 0.2em;padding-left: 0.2em;position: relative;}#sk-container-id-1 div.sk-item {position: relative;z-index: 1;}#sk-container-id-1 div.sk-parallel {display: flex;align-items: stretch;justify-content: center;background-color: white;position: relative;}#sk-container-id-1 div.sk-item::before, #sk-container-id-1 div.sk-parallel-item::before {content: \"\";position: absolute;border-left: 1px solid gray;box-sizing: border-box;top: 0;bottom: 0;left: 50%;z-index: -1;}#sk-container-id-1 div.sk-parallel-item {display: flex;flex-direction: column;z-index: 1;position: relative;background-color: white;}#sk-container-id-1 div.sk-parallel-item:first-child::after {align-self: flex-end;width: 50%;}#sk-container-id-1 div.sk-parallel-item:last-child::after {align-self: flex-start;width: 50%;}#sk-container-id-1 div.sk-parallel-item:only-child::after {width: 0;}#sk-container-id-1 div.sk-dashed-wrapped {border: 1px dashed gray;margin: 0 0.4em 0.5em 0.4em;box-sizing: border-box;padding-bottom: 0.4em;background-color: white;}#sk-container-id-1 div.sk-label label {font-family: monospace;font-weight: bold;display: inline-block;line-height: 1.2em;}#sk-container-id-1 div.sk-label-container {text-align: center;}#sk-container-id-1 div.sk-container {/* jupyter's `normalize.less` sets `[hidden] { display: none; }` but bootstrap.min.css set `[hidden] { display: none !important; }` so we also need the `!important` here to be able to override the default hidden behavior on the sphinx rendered scikit-learn.org. See: https://github.com/scikit-learn/scikit-learn/issues/21755 */display: inline-block !important;position: relative;}#sk-container-id-1 div.sk-text-repr-fallback {display: none;}</style><div id=\"sk-container-id-1\" class=\"sk-top-container\"><div class=\"sk-text-repr-fallback\"><pre>RandomForestClassifier(n_estimators=1000, random_state=50)</pre><b>In a Jupyter environment, please rerun this cell to show the HTML representation or trust the notebook. <br />On GitHub, the HTML representation is unable to render, please try loading this page with nbviewer.org.</b></div><div class=\"sk-container\" hidden><div class=\"sk-item\"><div class=\"sk-estimator sk-toggleable\"><input class=\"sk-toggleable__control sk-hidden--visually\" id=\"sk-estimator-id-1\" type=\"checkbox\" checked><label for=\"sk-estimator-id-1\" class=\"sk-toggleable__label sk-toggleable__label-arrow\">RandomForestClassifier</label><div class=\"sk-toggleable__content\"><pre>RandomForestClassifier(n_estimators=1000, random_state=50)</pre></div></div></div></div></div>"
      ],
      "text/plain": [
       "RandomForestClassifier(n_estimators=1000, random_state=50)"
      ]
     },
     "execution_count": 4,
     "metadata": {},
     "output_type": "execute_result"
    }
   ],
   "source": [
    "# Create the Random Forest Model\n",
    "model = RandomForestClassifier(n_estimators=1000, random_state=50)\n",
    "\n",
    "# Fit the Model with the cleaned up data\n",
    "\n",
    "model.fit(X,y)"
   ]
  },
  {
   "cell_type": "markdown",
   "id": "0dac4017",
   "metadata": {},
   "source": [
    "In this Model, I found that setting size to 1000 was a reasonable number as increasing this number any more would not result in more percise results, yet would lead to an increased computational time.\n",
    "\n",
    "After creating the model with this limitation, we passed in the Training Data and the true ratings of the games to create the prediction model"
   ]
  },
  {
   "cell_type": "code",
   "execution_count": 5,
   "id": "2da79192",
   "metadata": {},
   "outputs": [
    {
     "name": "stdout",
     "output_type": "stream",
     "text": [
      "              precision    recall  f1-score   support\n",
      "\n",
      "           E       0.97      0.98      0.98       416\n",
      "          ET       0.87      0.90      0.89       403\n",
      "           M       0.94      0.94      0.94       387\n",
      "           T       0.92      0.89      0.91       689\n",
      "\n",
      "    accuracy                           0.92      1895\n",
      "   macro avg       0.93      0.93      0.93      1895\n",
      "weighted avg       0.92      0.92      0.92      1895\n",
      "\n",
      "[[409   5   0   2]\n",
      " [ 10 364   0  29]\n",
      " [  0   0 363  24]\n",
      " [  2  48  23 616]]\n",
      "Accuracy: 0.9245382585751979\n"
     ]
    }
   ],
   "source": [
    "y_pred = model.predict(X)\n",
    "\n",
    "# Print classification report and confusion matrix\n",
    "print(classification_report(y, y_pred))\n",
    "print(confusion_matrix(y, y_pred))\n",
    "\n",
    "# Calculate and print accuracy\n",
    "accuracy = accuracy_score(y, y_pred)\n",
    "print(\"Accuracy:\", accuracy)"
   ]
  },
  {
   "cell_type": "markdown",
   "id": "4faef7f5",
   "metadata": {},
   "source": [
    "Creating the Confusion Matrix shows us valuable information about the model. Here, we simply passed back in the same game tag data that was used to train the model. We can see that the model is already at 92% accuracy at predicting this data. I used this step mainly as a santity check, to ensure that the model is working accurately with the given data.\n",
    "\n",
    "\n",
    "The Confusion Matrix generated shows us that the model is the least accurate with predicting which games are the ET rating, but highly accurate with every other rating."
   ]
  },
  {
   "cell_type": "code",
   "execution_count": 6,
   "id": "9231e1e2",
   "metadata": {},
   "outputs": [
    {
     "data": {
      "image/png": "[encoded data removed]",
      "text/plain": [
       "<Figure size 576x432 with 2 Axes>"
      ]
     },
     "metadata": {
      "needs_background": "light"
     },
     "output_type": "display_data"
    }
   ],
   "source": [
    "# Plot confusion matrix\n",
    "plt.figure(figsize=(8, 6))\n",
    "sns.heatmap(confusion_matrix(y, y_pred), annot=True, cmap='Blues')\n",
    "plt.xlabel('Predicted')\n",
    "plt.ylabel('Actual')\n",
    "plt.title('Confusion Matrix')\n",
    "plt.show()"
   ]
  },
  {
   "cell_type": "markdown",
   "id": "7f35459b",
   "metadata": {},
   "source": [
    "I then generated a graph to help visualize the Confusion Matrix. From this generated graph we can read it as when the value predicted equals the value actual, we have a correct prediction and any other pair of actual and predicted values are false values. This graph helps us visualize the fact that many of the games actually rated ET are being labeled as being T. We can expect this due to large number of overlap that occurs between the two ESRP game ratings."
   ]
  },
  {
   "cell_type": "code",
   "execution_count": 7,
   "id": "895f1a8b",
   "metadata": {},
   "outputs": [],
   "source": [
    "# Prep the testing dataset in the same way\n",
    "\n",
    "X2 = test_data.drop('esrb_rating', axis=1)\n",
    "X2 = X2.drop('title', axis=1)\n",
    "y2 = test_data['esrb_rating']"
   ]
  },
  {
   "cell_type": "markdown",
   "id": "ee956d0c",
   "metadata": {},
   "source": [
    "Here, we are prepping the testing data to be used against the prediction, this data is different from the training dataset and will allow us to see how accurate this model is with new data."
   ]
  },
  {
   "cell_type": "code",
   "execution_count": 8,
   "id": "17e46bac",
   "metadata": {},
   "outputs": [],
   "source": [
    "y_pred = model.predict(X2)"
   ]
  },
  {
   "cell_type": "code",
   "execution_count": 9,
   "id": "45c25ff3",
   "metadata": {},
   "outputs": [
    {
     "name": "stdout",
     "output_type": "stream",
     "text": [
      "              precision    recall  f1-score   support\n",
      "\n",
      "           E       0.95      0.95      0.95       100\n",
      "          ET       0.85      0.89      0.87       126\n",
      "           M       0.89      0.64      0.75        90\n",
      "           T       0.79      0.87      0.83       184\n",
      "\n",
      "    accuracy                           0.85       500\n",
      "   macro avg       0.87      0.84      0.85       500\n",
      "weighted avg       0.85      0.85      0.85       500\n",
      "\n",
      "[[ 95   4   0   1]\n",
      " [  4 112   0  10]\n",
      " [  0   0  58  32]\n",
      " [  1  16   7 160]]\n",
      "Accuracy: 0.85\n"
     ]
    },
    {
     "data": {
      "image/png": "[encoded data removed]",
      "text/plain": [
       "<Figure size 576x432 with 2 Axes>"
      ]
     },
     "metadata": {
      "needs_background": "light"
     },
     "output_type": "display_data"
    }
   ],
   "source": [
    "# Print classification report and confusion matrix\n",
    "print(classification_report(y2, y_pred))\n",
    "print(confusion_matrix(y2, y_pred))\n",
    "\n",
    "# Calculate and print accuracy\n",
    "accuracy = accuracy_score(y2, y_pred)\n",
    "print(\"Accuracy:\", accuracy)\n",
    "\n",
    "# Plot confusion matrix\n",
    "plt.figure(figsize=(8, 6))\n",
    "sns.heatmap(confusion_matrix(y2, y_pred), annot=True, cmap='Blues')\n",
    "plt.xlabel('Predicted')\n",
    "plt.ylabel('Actual')\n",
    "plt.title('Confusion Matrix')\n",
    "plt.show()"
   ]
  },
  {
   "cell_type": "markdown",
   "id": "8065eb54",
   "metadata": {},
   "source": [
    "From running these steps, we can see that this model has a 85% accuracy on predicting what ESRP rating video games will get based upon the tags each game is given due to their content. In this model, we can see that the largest area of mistakes are from games that are actually rated T being mislabeled as other ratings. This is largely due to the fact that rated T games are the most common in this dataset, alongside the fact that games rated T have the highest overlap with games rated ET and games rated M."
   ]
  },
  {
   "cell_type": "code",
   "execution_count": 10,
   "id": "4c5dce7d",
   "metadata": {},
   "outputs": [
    {
     "name": "stdout",
     "output_type": "stream",
     "text": [
      "Column 0: console\n",
      "Column 1: alcohol_reference\n",
      "Column 2: animated_blood\n",
      "Column 3: blood\n",
      "Column 4: blood_and_gore\n",
      "Column 5: cartoon_violence\n",
      "Column 6: crude_humor\n",
      "Column 7: drug_reference\n",
      "Column 8: fantasy_violence\n",
      "Column 9: intense_violence\n",
      "Column 10: language\n",
      "Column 11: lyrics\n",
      "Column 12: mature_humor\n",
      "Column 13: mild_blood\n",
      "Column 14: mild_cartoon_violence\n",
      "Column 15: mild_fantasy_violence\n",
      "Column 16: mild_language\n",
      "Column 17: mild_lyrics\n",
      "Column 18: mild_suggestive_themes\n",
      "Column 19: mild_violence\n",
      "Column 20: no_descriptors\n",
      "Column 21: nudity\n",
      "Column 22: partial_nudity\n",
      "Column 23: sexual_content\n",
      "Column 24: sexual_themes\n",
      "Column 25: simulated_gambling\n",
      "Column 26: strong_janguage\n",
      "Column 27: strong_sexual_content\n",
      "Column 28: suggestive_themes\n",
      "Column 29: use_of_alcohol\n",
      "Column 30: use_of_drugs_and_alcohol\n",
      "Column 31: violence\n"
     ]
    },
    {
     "data": {
      "image/png": "[encoded data removed]",
      "text/plain": [
       "<Figure size 720x432 with 1 Axes>"
      ]
     },
     "metadata": {
      "needs_background": "light"
     },
     "output_type": "display_data"
    }
   ],
   "source": [
    "importances = model.feature_importances_\n",
    "indices = np.argsort(importances)[::-1]\n",
    "\n",
    "for idx, col_name in enumerate(X.columns):\n",
    "    print(f\"Column {idx}: {col_name}\")\n",
    "\n",
    "plt.figure(figsize=(10, 6))\n",
    "plt.bar(range(X.shape[1]), importances[indices], align='center')\n",
    "plt.xticks(range(X.shape[1]), indices)\n",
    "plt.xlabel('Feature Index')\n",
    "plt.ylabel('Feature Importance')\n",
    "plt.title('Feature Importance Plot (Random Forest)')\n",
    "plt.show()"
   ]
  },
  {
   "cell_type": "markdown",
   "id": "39d23e01",
   "metadata": {},
   "source": [
    "<b> We did this already, let's try something deeper.</b>"
   ]
  },
  {
   "cell_type": "code",
   "execution_count": 11,
   "id": "f8694d06",
   "metadata": {},
   "outputs": [],
   "source": [
    "#pip install xgboost"
   ]
  },
  {
   "cell_type": "code",
   "execution_count": 12,
   "id": "09d689eb",
   "metadata": {},
   "outputs": [],
   "source": [
    "import xgboost as xgb"
   ]
  },
  {
   "cell_type": "markdown",
   "id": "eb3c116b",
   "metadata": {},
   "source": [
    "I'm going to attempt to use a Gradient Boosting Machine method to perform the analysis on this dataset and see if this method of prediction would lead to higher accuracies in predictions."
   ]
  },
  {
   "cell_type": "code",
   "execution_count": 13,
   "id": "71a6e084",
   "metadata": {},
   "outputs": [],
   "source": [
    "data = pd.read_csv('Video_games_esrb_rating.csv')\n",
    "\n",
    "\n",
    "X = data.drop('esrb_rating', axis=1)\n",
    "X = X.drop('title',axis=1)\n",
    "y = data['esrb_rating']\n",
    "\n",
    "# Mapping for swapping all ratings to floats\n",
    "mapping = {'E': 1.0, 'ET': 2.0, 'T': 3.0, 'M': 4.0}\n",
    "\n",
    "\n",
    "y_float = [mapping[val] for val in y]\n",
    "\n",
    "X_train, X_test, y_train, y_test = train_test_split(X, y_float, test_size=0.2, random_state=42)\n"
   ]
  },
  {
   "cell_type": "markdown",
   "id": "b10a379e",
   "metadata": {},
   "source": [
    "The Gradient Boosting Machine was significantly more meticulous in it's implemenation causing me to go through significantly more errors in order to produce the results. The first issue I was facing was that the model would not accept any string values, causing me to need to convert all the rating types into integer values to produce results. I did this through creating a mapping in order to swap the values effectively. After this, I also attempted to use only the 'Video_game_esrb_rating.csv' and split it into a training and testing model. This was a tool I learned about in the previous project and wanted to see how I would implement it into my Machine Learning methodologies."
   ]
  },
  {
   "cell_type": "code",
   "execution_count": 14,
   "id": "56f3215c",
   "metadata": {},
   "outputs": [
    {
     "name": "stdout",
     "output_type": "stream",
     "text": [
      "<xgboost.core.DMatrix object at 0x7f06b85c7d90>\n"
     ]
    }
   ],
   "source": [
    "from sklearn.preprocessing import LabelEncoder\n",
    "\n",
    "# Initialize LabelEncoder\n",
    "label_encoder = LabelEncoder()\n",
    "\n",
    "# Fit and transform the labels\n",
    "y_train_encoded = label_encoder.fit_transform(y_train)\n",
    "y_test_encoded = label_encoder.transform(y_test)\n",
    "\n",
    "# Convert the dataset into DMatrix format for XGBoost\n",
    "dtrain = xgb.DMatrix(X_train, label=y_train_encoded)\n",
    "dtest = xgb.DMatrix(X_test, label=y_test_encoded)\n",
    "\n",
    "\n",
    "print(dtest)\n",
    "\n",
    "\n",
    "# Set the parameters for XGBoost\n",
    "params = {\n",
    "    'objective': 'multi:softmax',  # Multiclass classification\n",
    "    'num_class': 4,  # Number of classes\n",
    "    'max_depth': 3,  # Maximum depth of a tree\n",
    "    'eta': 0.1,  # Learning rate\n",
    "}\n",
    "\n",
    "# Train the model\n",
    "num_round = 100\n",
    "bst = xgb.train(params, dtrain, num_round)\n",
    "\n",
    "\n",
    "y_pred = bst.predict(dtest)"
   ]
  },
  {
   "cell_type": "markdown",
   "id": "5247817d",
   "metadata": {},
   "source": [
    "From here, the next issue I ran into was that the label inputs into the DMatrix were not formatted properly for the training model. I had tried a couple different ways of solving this, but the only true solution I had found was to use a LabelEncoder and transform the training set and the testing set, both of which had been previously converted from strings to floats, into an encoded array, then pass this array into the datasets.\n",
    "\n",
    "After this, I created the parameters for the xgb Gradient Boosting Machine and passed them through to create the bst model. \n",
    "\n",
    "From this model, I simply inputted the training data and let the model do it's thing."
   ]
  },
  {
   "cell_type": "code",
   "execution_count": 15,
   "id": "e533f6d6",
   "metadata": {},
   "outputs": [
    {
     "name": "stdout",
     "output_type": "stream",
     "text": [
      "Classification Report:\n",
      "              precision    recall  f1-score   support\n",
      "\n",
      "           0       0.94      0.90      0.92        99\n",
      "           1       0.69      0.72      0.70        61\n",
      "           2       0.80      0.86      0.83       146\n",
      "           3       0.94      0.81      0.87        73\n",
      "\n",
      "    accuracy                           0.84       379\n",
      "   macro avg       0.84      0.82      0.83       379\n",
      "weighted avg       0.84      0.84      0.84       379\n",
      "\n",
      "Confusion Matrix:\n",
      "[[ 89   5   5   0]\n",
      " [  4  44  13   0]\n",
      " [  2  15 125   4]\n",
      " [  0   0  14  59]]\n",
      "Accuracy: 0.8364116094986808\n"
     ]
    }
   ],
   "source": [
    "# Print classification report and confusion matrix\n",
    "print(\"Classification Report:\")\n",
    "print(classification_report(y_test_encoded, y_pred))\n",
    "\n",
    "print(\"Confusion Matrix:\")\n",
    "print(confusion_matrix(y_test_encoded, y_pred))\n",
    "\n",
    "# Calculate and print accuracy\n",
    "accuracy = accuracy_score(y_test_encoded, y_pred)\n",
    "print(\"Accuracy:\", accuracy)"
   ]
  },
  {
   "cell_type": "code",
   "execution_count": 16,
   "id": "bf7ea1d4",
   "metadata": {},
   "outputs": [
    {
     "data": {
      "image/png": "[encoded data removed]",
      "text/plain": [
       "<Figure size 432x288 with 1 Axes>"
      ]
     },
     "metadata": {
      "needs_background": "light"
     },
     "output_type": "display_data"
    }
   ],
   "source": [
    "# Train the XGBoost model\n",
    "bst = xgb.train(params, dtrain)\n",
    "\n",
    "# Plot feature importance\n",
    "xgb.plot_importance(bst)\n",
    "plt.title('Feature Importance Plot (XGBoost)')\n",
    "plt.show()\n"
   ]
  },
  {
   "cell_type": "markdown",
   "id": "9548f97f",
   "metadata": {},
   "source": [
    "To my suprise, the model was significantly less accurate overall! I began to investigate exactly why this was occurring but finalized it down to the fact that it's simply due to the model I chose. I had theories about the fact that this model required me to manipulate the inputted data much more thus causing these inconsistencies to occur but from the data manipluation that did occur, none of the values ever changes only from strings to floats which remained equally distinct and consistent.\n",
    "\n",
    "Overall, this taught me that choosing what model you used is a much larger decision than I thought. Learning the strengths and weaknesses of different models will provide to be a much important tool in the future for myself if I continue down the track of a Data Scientist. I had previously believed that more complicated models such as the GBM would lead to more accurate results, but this test clearly indicated otherwise."
   ]
  },
  {
   "cell_type": "markdown",
   "id": "bb66f001",
   "metadata": {},
   "source": [
    "Final notes I want to add. I attempted to create ROC curved for both of these models, but could not get the graphs to form properly. This was mainly due to issues I was having with multi-typed objects in attempting to create these curves. In the future I will definiately look to get help in this area in order to create those graphs for further analysis."
   ]
  }
 ],
 "metadata": {
  "kernelspec": {
   "display_name": "Python 3",
   "language": "python",
   "name": "python3"
  },
  "language_info": {
   "codemirror_mode": {
    "name": "ipython",
    "version": 3
   },
   "file_extension": ".py",
   "mimetype": "text/x-python",
   "name": "python",
   "nbconvert_exporter": "python",
   "pygments_lexer": "ipython3",
   "version": "3.8.10"
  }
 },
 "nbformat": 4,
 "nbformat_minor": 5
}
